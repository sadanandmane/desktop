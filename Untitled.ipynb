{
  "nbformat": 4,
  "nbformat_minor": 0,
  "metadata": {
    "colab": {
      "provenance": [],
      "toc_visible": true,
      "authorship_tag": "ABX9TyOe4K1i3VwCRxzdP7ceqcL6",
      "include_colab_link": true
    },
    "kernelspec": {
      "name": "python3",
      "display_name": "Python 3"
    },
    "language_info": {
      "name": "python"
    }
  },
  "cells": [
    {
      "cell_type": "markdown",
      "metadata": {
        "id": "view-in-github",
        "colab_type": "text"
      },
      "source": [
        "<a href=\"https://colab.research.google.com/github/sadanandmane/desktop/blob/Fetching-before-pull-request-preview/Untitled.ipynb\" target=\"_parent\"><img src=\"https://colab.research.google.com/assets/colab-badge.svg\" alt=\"Open In Colab\"/></a>"
      ]
    },
    {
      "cell_type": "markdown",
      "source": [
        "# ***# ***pythan basc for stronomy ***bold text***\n",
        "\n"
      ],
      "metadata": {
        "id": "ivnEGvAhefM-"
      }
    },
    {
      "cell_type": "code",
      "source": [
        "# my first code is pythan\n",
        "print(\"hello world\")\n"
      ],
      "metadata": {
        "colab": {
          "base_uri": "https://localhost:8080/"
        },
        "id": "gyXjzZUNfFQC",
        "outputId": "0e4637b2-b2cf-4336-e222-3f2ccd8d7b0a"
      },
      "execution_count": 1,
      "outputs": [
        {
          "output_type": "stream",
          "name": "stdout",
          "text": [
            "hello world\n"
          ]
        }
      ]
    },
    {
      "cell_type": "markdown",
      "source": [
        "1. comments\n"
      ],
      "metadata": {
        "id": "-Ek9yxO6g0QD"
      }
    },
    {
      "cell_type": "code",
      "source": [
        "# selected the tex below and pressend ctrl +/\n",
        "this is my first comments\n",
        "this is my second comments\n",
        "fdsjfhsdfh\n",
        "fsjhfhsf\n",
        "sfhjd\n"
      ],
      "metadata": {
        "colab": {
          "base_uri": "https://localhost:8080/",
          "height": 106
        },
        "id": "e-wduUgqhTOa",
        "outputId": "65188358-0c2f-4520-bc77-a92aba0de36f"
      },
      "execution_count": 3,
      "outputs": [
        {
          "output_type": "error",
          "ename": "SyntaxError",
          "evalue": "invalid syntax (<ipython-input-3-98e04c7a102e>, line 2)",
          "traceback": [
            "\u001b[0;36m  File \u001b[0;32m\"<ipython-input-3-98e04c7a102e>\"\u001b[0;36m, line \u001b[0;32m2\u001b[0m\n\u001b[0;31m    this is my first comments\u001b[0m\n\u001b[0m               ^\u001b[0m\n\u001b[0;31mSyntaxError\u001b[0m\u001b[0;31m:\u001b[0m invalid syntax\n"
          ]
        }
      ]
    },
    {
      "cell_type": "code",
      "source": [
        "\"\"\"\n",
        "this is my first line of comments\n",
        "this is my second line of comments\n",
        "\n",
        "\"\"\"\n",
        "\n"
      ],
      "metadata": {
        "colab": {
          "base_uri": "https://localhost:8080/",
          "height": 35
        },
        "id": "Fpbe1U4bgrTE",
        "outputId": "63e38e0f-5783-4c43-8deb-15d0b7933f53"
      },
      "execution_count": 2,
      "outputs": [
        {
          "output_type": "execute_result",
          "data": {
            "text/plain": [
              "'\\nthis is my first line of comments\\nthis is my second line of comments\\n\\n'"
            ],
            "application/vnd.google.colaboratory.intrinsic+json": {
              "type": "string"
            }
          },
          "metadata": {},
          "execution_count": 2
        }
      ]
    },
    {
      "cell_type": "markdown",
      "source": [
        "2. variables and **constants**"
      ],
      "metadata": {
        "id": "1jTLFVeniiEc"
      }
    },
    {
      "cell_type": "code",
      "source": [
        "#x=4\n",
        "#y=5\n",
        "print(x+x+y+x+y)\n"
      ],
      "metadata": {
        "colab": {
          "base_uri": "https://localhost:8080/"
        },
        "id": "L5KvCOUfisk2",
        "outputId": "c475b030-24f5-4bc0-badd-d6b5e3871065"
      },
      "execution_count": 7,
      "outputs": [
        {
          "output_type": "stream",
          "name": "stdout",
          "text": [
            "22\n"
          ]
        }
      ]
    },
    {
      "cell_type": "markdown",
      "source": [
        "## **3. strings**"
      ],
      "metadata": {
        "id": "zssHMq5Sk13y"
      }
    },
    {
      "cell_type": "code",
      "source": [
        "# create a variable to store the information about a planet in our solar system\n",
        "planet_name = 'venus'\n",
        "planet_age = '4.6 billion years'\n",
        "planet_index = 1  # in python, index start from 0. hence, venus is on index 1 after mercury on index 0\n"
      ],
      "metadata": {
        "id": "kSepyGKukecT"
      },
      "execution_count": 32,
      "outputs": []
    },
    {
      "cell_type": "code",
      "source": [
        "print(planet_name)\n",
        "print(planet_age)\n",
        "print(planet_index)\n"
      ],
      "metadata": {
        "colab": {
          "base_uri": "https://localhost:8080/"
        },
        "id": "-05Iiqq0qiLU",
        "outputId": "a3e5ad84-7cd1-4490-84f7-37407d3404f9"
      },
      "execution_count": 33,
      "outputs": [
        {
          "output_type": "stream",
          "name": "stdout",
          "text": [
            "venus\n",
            "4.6 billion years\n",
            "1\n"
          ]
        }
      ]
    },
    {
      "cell_type": "code",
      "source": [
        "print(type(planet_name))\n",
        "print(type(planet_age))\n",
        "print(type(planet_index))"
      ],
      "metadata": {
        "colab": {
          "base_uri": "https://localhost:8080/"
        },
        "id": "5N57Iw86sGVU",
        "outputId": "6bcd54ab-3582-4d9b-9d63-3086bd650cb8"
      },
      "execution_count": 35,
      "outputs": [
        {
          "output_type": "stream",
          "name": "stdout",
          "text": [
            "<class 'str'>\n",
            "<class 'str'>\n",
            "<class 'int'>\n"
          ]
        }
      ]
    }
  ]
}