{
  "nbformat": 4,
  "nbformat_minor": 0,
  "metadata": {
    "colab": {
      "provenance": [],
      "authorship_tag": "ABX9TyOIl8L262dwbdGEopfuZQqK",
      "include_colab_link": true
    },
    "kernelspec": {
      "name": "python3",
      "display_name": "Python 3"
    },
    "language_info": {
      "name": "python"
    }
  },
  "cells": [
    {
      "cell_type": "markdown",
      "metadata": {
        "id": "view-in-github",
        "colab_type": "text"
      },
      "source": [
        "<a href=\"https://colab.research.google.com/github/sadanandmane/desktop/blob/Fetching-before-pull-request-preview/Untitled1.ipynb\" target=\"_parent\"><img src=\"https://colab.research.google.com/assets/colab-badge.svg\" alt=\"Open In Colab\"/></a>"
      ]
    },
    {
      "cell_type": "code",
      "execution_count": null,
      "metadata": {
        "id": "zx9leJ1Pg5az"
      },
      "outputs": [],
      "source": []
    },
    {
      "cell_type": "markdown",
      "source": [
        "# python basic for astronomy\n"
      ],
      "metadata": {
        "id": "DndlwgFNhjUq"
      }
    },
    {
      "cell_type": "code",
      "source": [
        "# my first code in pyathon\n",
        "print(\"hello world!\")\n"
      ],
      "metadata": {
        "colab": {
          "base_uri": "https://localhost:8080/"
        },
        "id": "KZqUgJPRhr1m",
        "outputId": "86f13e7d-2f2a-4c0b-bb98-d5889cc4d713"
      },
      "execution_count": null,
      "outputs": [
        {
          "output_type": "stream",
          "name": "stdout",
          "text": [
            "hello world\n"
          ]
        }
      ]
    },
    {
      "cell_type": "markdown",
      "source": [],
      "metadata": {
        "id": "pX0QtDXozBUq"
      }
    },
    {
      "cell_type": "markdown",
      "source": [
        "1 comments\n"
      ],
      "metadata": {
        "id": "UQ5W8yoazDhs"
      }
    },
    {
      "cell_type": "code",
      "source": [
        "\"\"\"\n",
        "this is my first line of comment\n",
        "this is second line of comment\n",
        "\"\"\""
      ],
      "metadata": {
        "id": "gbZYYhVzhhjz"
      },
      "execution_count": null,
      "outputs": []
    },
    {
      "cell_type": "code",
      "source": [
        "#this is my first comment\n",
        "#this is my second comment\n",
        "#dsafdsfds\n",
        "#adfdsfdfgfg\n",
        "#gdfgfhfh\n",
        "\n",
        "\n",
        "\n",
        "\n",
        "\n",
        "\n",
        "\n",
        "\n",
        "\n"
      ],
      "metadata": {
        "id": "euKWy6z8zafs"
      },
      "execution_count": null,
      "outputs": []
    }
  ]
}